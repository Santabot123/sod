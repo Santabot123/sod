{
 "cells": [
  {
   "cell_type": "markdown",
   "id": "c033d643-16db-4a13-b347-79cf1d12d143",
   "metadata": {},
   "source": [
    "Split train dataset to train and val"
   ]
  },
  {
   "cell_type": "code",
   "execution_count": 1,
   "id": "82eda480-87bc-4a6b-bd05-330b07a57610",
   "metadata": {},
   "outputs": [
    {
     "name": "stdout",
     "output_type": "stream",
     "text": [
      "/home/sasha/anaconda_projects/sahi\n"
     ]
    }
   ],
   "source": [
    "!pwd"
   ]
  },
  {
   "cell_type": "code",
   "execution_count": 2,
   "id": "a6f1205d-5426-48b0-b031-588f51ecca16",
   "metadata": {},
   "outputs": [],
   "source": [
    "!mkdir AI-TOD-train-v1.0-1/val\n",
    "!mkdir AI-TOD-train-v1.0-1/val/images\n",
    "!mkdir AI-TOD-train-v1.0-1/val/labels"
   ]
  },
  {
   "cell_type": "code",
   "execution_count": 4,
   "id": "a772d22d-4b9d-4e3f-aa8d-fd99379cd468",
   "metadata": {},
   "outputs": [],
   "source": [
    "import shutil\n",
    "import glob\n",
    "\n",
    "test_img=sorted(glob.glob('AI-TOD-train-v1.0-1/train/images/*'))[:100]\n",
    "test_labels=sorted(glob.glob('AI-TOD-train-v1.0-1/train/labels/*'))[:100]\n",
    "\n",
    "for image in test_img:\n",
    "    shutil.move(image, 'AI-TOD-train-v1.0-1/val/images')\n",
    "\n",
    "for label in test_labels:\n",
    "    shutil.move(label, 'AI-TOD-train-v1.0-1/val/labels')"
   ]
  },
  {
   "cell_type": "code",
   "execution_count": null,
   "id": "857f7a6c-c03c-43dc-82aa-dc7b2b01b41b",
   "metadata": {},
   "outputs": [],
   "source": []
  }
 ],
 "metadata": {
  "kernelspec": {
   "display_name": "Python 3 (ipykernel)",
   "language": "python",
   "name": "python3"
  },
  "language_info": {
   "codemirror_mode": {
    "name": "ipython",
    "version": 3
   },
   "file_extension": ".py",
   "mimetype": "text/x-python",
   "name": "python",
   "nbconvert_exporter": "python",
   "pygments_lexer": "ipython3",
   "version": "3.11.7"
  }
 },
 "nbformat": 4,
 "nbformat_minor": 5
}
