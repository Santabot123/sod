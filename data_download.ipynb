{
 "cells": [
  {
   "cell_type": "code",
   "execution_count": 2,
   "id": "2d47e7b5-797b-45b1-9f8b-08e22f82e80e",
   "metadata": {},
   "outputs": [
    {
     "name": "stdout",
     "output_type": "stream",
     "text": [
      "Requirement already satisfied: roboflow in /home/sasha/anaconda3/envs/sahi/lib/python3.11/site-packages (1.1.19)\n",
      "Requirement already satisfied: certifi==2023.7.22 in /home/sasha/anaconda3/envs/sahi/lib/python3.11/site-packages (from roboflow) (2023.7.22)\n",
      "Requirement already satisfied: chardet==4.0.0 in /home/sasha/anaconda3/envs/sahi/lib/python3.11/site-packages (from roboflow) (4.0.0)\n",
      "Requirement already satisfied: cycler==0.10.0 in /home/sasha/anaconda3/envs/sahi/lib/python3.11/site-packages (from roboflow) (0.10.0)\n",
      "Requirement already satisfied: idna==2.10 in /home/sasha/anaconda3/envs/sahi/lib/python3.11/site-packages (from roboflow) (2.10)\n",
      "Requirement already satisfied: kiwisolver>=1.3.1 in /home/sasha/anaconda3/envs/sahi/lib/python3.11/site-packages (from roboflow) (1.4.5)\n",
      "Requirement already satisfied: matplotlib in /home/sasha/anaconda3/envs/sahi/lib/python3.11/site-packages (from roboflow) (3.8.2)\n",
      "Requirement already satisfied: numpy>=1.18.5 in /home/sasha/anaconda3/envs/sahi/lib/python3.11/site-packages (from roboflow) (1.26.4)\n",
      "Requirement already satisfied: opencv-python-headless==4.8.0.74 in /home/sasha/anaconda3/envs/sahi/lib/python3.11/site-packages (from roboflow) (4.8.0.74)\n",
      "Requirement already satisfied: Pillow>=7.1.2 in /home/sasha/anaconda3/envs/sahi/lib/python3.11/site-packages (from roboflow) (10.2.0)\n",
      "Requirement already satisfied: python-dateutil in /home/sasha/anaconda3/envs/sahi/lib/python3.11/site-packages (from roboflow) (2.8.2)\n",
      "Requirement already satisfied: python-dotenv in /home/sasha/anaconda3/envs/sahi/lib/python3.11/site-packages (from roboflow) (1.0.1)\n",
      "Requirement already satisfied: requests in /home/sasha/anaconda3/envs/sahi/lib/python3.11/site-packages (from roboflow) (2.31.0)\n",
      "Requirement already satisfied: six in /home/sasha/anaconda3/envs/sahi/lib/python3.11/site-packages (from roboflow) (1.16.0)\n",
      "Requirement already satisfied: supervision in /home/sasha/anaconda3/envs/sahi/lib/python3.11/site-packages (from roboflow) (0.18.0)\n",
      "Requirement already satisfied: urllib3>=1.26.6 in /home/sasha/anaconda3/envs/sahi/lib/python3.11/site-packages (from roboflow) (2.2.0)\n",
      "Requirement already satisfied: tqdm>=4.41.0 in /home/sasha/anaconda3/envs/sahi/lib/python3.11/site-packages (from roboflow) (4.66.2)\n",
      "Requirement already satisfied: PyYAML>=5.3.1 in /home/sasha/anaconda3/envs/sahi/lib/python3.11/site-packages (from roboflow) (6.0.1)\n",
      "Requirement already satisfied: requests-toolbelt in /home/sasha/anaconda3/envs/sahi/lib/python3.11/site-packages (from roboflow) (1.0.0)\n",
      "Requirement already satisfied: python-magic in /home/sasha/anaconda3/envs/sahi/lib/python3.11/site-packages (from roboflow) (0.4.27)\n",
      "Requirement already satisfied: contourpy>=1.0.1 in /home/sasha/anaconda3/envs/sahi/lib/python3.11/site-packages (from matplotlib->roboflow) (1.2.0)\n",
      "Requirement already satisfied: fonttools>=4.22.0 in /home/sasha/anaconda3/envs/sahi/lib/python3.11/site-packages (from matplotlib->roboflow) (4.48.1)\n",
      "Requirement already satisfied: packaging>=20.0 in /home/sasha/anaconda3/envs/sahi/lib/python3.11/site-packages (from matplotlib->roboflow) (23.2)\n",
      "Requirement already satisfied: pyparsing>=2.3.1 in /home/sasha/anaconda3/envs/sahi/lib/python3.11/site-packages (from matplotlib->roboflow) (3.1.1)\n",
      "Requirement already satisfied: charset-normalizer<4,>=2 in /home/sasha/anaconda3/envs/sahi/lib/python3.11/site-packages (from requests->roboflow) (3.3.2)\n",
      "Requirement already satisfied: defusedxml<0.8.0,>=0.7.1 in /home/sasha/anaconda3/envs/sahi/lib/python3.11/site-packages (from supervision->roboflow) (0.7.1)\n",
      "Requirement already satisfied: scipy<2.0.0,>=1.10.0 in /home/sasha/anaconda3/envs/sahi/lib/python3.11/site-packages (from supervision->roboflow) (1.12.0)\n",
      "loading Roboflow workspace...\n",
      "loading Roboflow project...\n",
      "Dependency ultralytics==8.0.196 is required but found version=8.1.12, to fix: `pip install ultralytics==8.0.196`\n"
     ]
    },
    {
     "name": "stderr",
     "output_type": "stream",
     "text": [
      "Downloading Dataset Version Zip in AI-TOD-train-v1.0-1 to yolov8:: 100%|██████████| 359913/359913 [00:36<00:00, 9755.78it/s] "
     ]
    },
    {
     "name": "stdout",
     "output_type": "stream",
     "text": [
      "\n"
     ]
    },
    {
     "name": "stderr",
     "output_type": "stream",
     "text": [
      "\n",
      "Extracting Dataset Version Zip to AI-TOD-train-v1.0-1 in yolov8:: 100%|██████████| 14004/14004 [00:01<00:00, 8439.33it/s] \n"
     ]
    }
   ],
   "source": [
    "!pip install roboflow\n",
    "\n",
    "from roboflow import Roboflow\n",
    "rf = Roboflow(api_key=\"oiygGNONvKI5VjfeYayw\")\n",
    "project = rf.workspace(\"lntu-9t6zp\").project(\"ai-tod-train-v1.0\")\n",
    "dataset = project.version(1).download(\"yolov8\")\n"
   ]
  },
  {
   "cell_type": "code",
   "execution_count": null,
   "id": "e523c5d0-661a-4d46-9458-fc862b4c6672",
   "metadata": {},
   "outputs": [],
   "source": [
    "\n",
    "rf = Roboflow(api_key=\"EDuqSdugJ6dzJIhRPO9W\")\n",
    "project = rf.workspace(\"1-9nk0r\").project(\"small-object-detection-bmcuf\")\n",
    "dataset = project.version(2).download(\"yolov8\")\n"
   ]
  }
 ],
 "metadata": {
  "kernelspec": {
   "display_name": "Python 3 (ipykernel)",
   "language": "python",
   "name": "python3"
  },
  "language_info": {
   "codemirror_mode": {
    "name": "ipython",
    "version": 3
   },
   "file_extension": ".py",
   "mimetype": "text/x-python",
   "name": "python",
   "nbconvert_exporter": "python",
   "pygments_lexer": "ipython3",
   "version": "3.11.7"
  }
 },
 "nbformat": 4,
 "nbformat_minor": 5
}
